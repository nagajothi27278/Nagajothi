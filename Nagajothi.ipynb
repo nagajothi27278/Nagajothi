{
 "cells": [
  {
   "cell_type": "code",
   "execution_count": null,
   "metadata": {},
   "outputs": [],
   "source": [
    "# PYTHON AND MACHINE LEARNING NATIONAL WORKSHOP\n",
    "Hi I attended 7 Days National Workshop on \"Python And Machine Learning\" from 07-13 June 2021, conducted by <b> THE CODE SCHOLAR</b>.\n",
    "\n",
    "<br>I got to have hands on experience on:\n",
    "<li>Python\n",
    "<li>Machine Learning\n",
    "<li>Project Understanding\n",
    "<br>\n",
    "During these 7 days, everything was explained from the very basics so that\n",
    "anyone with zero experience on programming can learn.\n",
    "  \n",
    "The instructor during the session was Mr. Nitesh. \n",
    "<br>Speakers from different industry domains, lightened up the session with their experience. \n",
    "I got to learn a lot during these 7 days and it was an amazing experience learning with THE CODE SCHOLAR.<br>\n",
    "\n",
    "<br><br>Here's the link for you to watch the sessions as well<br>\n",
    " \n",
    "<a href=\"https://www.youtube.com/watch?v=feCL8qbjgN0&list=PL3Hnv9OFTJvW4zFKj0qXOpkoNe4AQTzCF&index=1\"> <img src=\"https://github.com/thecodescholar/tcs_data/blob/main/PYTHON%20AND%20MACHINE%20LEARNING.png\"> </a>\n",
    "\n",
    "\n",
    "I enjoyed these 7 days, you can as well. To register for next free 7 days bootcamp, visit:\n",
    "<a href=\"http://www.thecodescholar.com\"> www.thecodescholar.com </a>\n",
    "or follow THE CODE SCHOLAR on:\n",
    "<li><a href=\n",
    "\"https://linkedin.com/company/the-code-scholar\">LinkedIn</a>\n",
    "<li><a href=\n",
    "\"https://www.instagram.com/thecodescholar\">Instagram</a>\n",
    "<li><a href=\n",
    "\"https://youtube.com/channel/UCyG-UNr0u8rIb3Dxq2TAZ9A\">YouTube</a>\n",
    "<li><a href=\n",
    "\"https://github.com/thecodescholar\">GitHub</a>\n",
    "<li><a href=\n",
    "\"https://twitter.com/thecodescholar_\">Twitter</a>\n",
    "\n"
   ]
  }
 ],
 "metadata": {
  "kernelspec": {
   "display_name": "Python 3",
   "language": "python",
   "name": "python3"
  },
  "language_info": {
   "codemirror_mode": {
    "name": "ipython",
    "version": 3
   },
   "file_extension": ".py",
   "mimetype": "text/x-python",
   "name": "python",
   "nbconvert_exporter": "python",
   "pygments_lexer": "ipython3",
   "version": "3.6.5"
  }
 },
 "nbformat": 4,
 "nbformat_minor": 2
}
